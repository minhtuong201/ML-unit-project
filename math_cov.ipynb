{
 "cells": [
  {
   "cell_type": "markdown",
   "metadata": {},
   "source": [
    "- Student name: Duy Hieu Nguyen\n",
    "- SID: 33694052"
   ]
  },
  {
   "cell_type": "markdown",
   "metadata": {},
   "source": [
    "# 4. **Covariances**"
   ]
  },
  {
   "cell_type": "markdown",
   "metadata": {},
   "source": [
    "## Question 3. Portfolio Risk"
   ]
  },
  {
   "cell_type": "markdown",
   "metadata": {},
   "source": [
    "### **Task 1:  Compute the expected values and standard deviations**"
   ]
  },
  {
   "cell_type": "code",
   "execution_count": 1,
   "metadata": {},
   "outputs": [
    {
     "data": {
      "text/plain": [
       "([7500, 7500, 7500, 7500],\n",
       " [1023.1690964840562, 881.7596044274198, 872.8545125048046, 920.2581159652981])"
      ]
     },
     "execution_count": 1,
     "metadata": {},
     "output_type": "execute_result"
    }
   ],
   "source": [
    "import numpy as np\n",
    "\n",
    "# Define the assets' means and standard deviations\n",
    "means = np.array([100, 100, 50, 50])\n",
    "std_devs = np.array([20, 22, 5, 5])\n",
    "\n",
    "# Define the correlation matrix\n",
    "R = np.array([\n",
    "    [1.0, 0.9, 0.0, 0.0],\n",
    "    [0.9, 1.0, -0.9, -0.9],\n",
    "    [0.0, -0.9, 1.0, 0.5],\n",
    "    [0.0, -0.9, 0.5, 1.0]\n",
    "])\n",
    "\n",
    "# Compute the covariance matrix using the formula: Cov(Xi, Xj) = ρ(Xi, Xj) * Std(Xi) * Std(Xj)\n",
    "cov_matrix = np.outer(std_devs, std_devs) * R\n",
    "\n",
    "# Define the portfolio weights\n",
    "portfolios = np.array([\n",
    "    [50, 0, 25, 25],\n",
    "    [0, 50, 50, 0],\n",
    "    [0, 50, 25, 25],\n",
    "    [25, 25, 25, 25]\n",
    "])\n",
    "\n",
    "# Calculate expected values and standard deviations for each portfolio\n",
    "expected_values = []\n",
    "std_dev_values = []\n",
    "\n",
    "for portfolio in portfolios:\n",
    "    exp_val = np.dot(portfolio, means)\n",
    "    variance = np.dot(portfolio, np.dot(cov_matrix, portfolio))\n",
    "    std_dev = np.sqrt(variance)\n",
    "    \n",
    "    expected_values.append(exp_val)\n",
    "    std_dev_values.append(std_dev)\n",
    "\n",
    "# \n",
    "\n",
    "expected_values, std_dev_values"
   ]
  },
  {
   "cell_type": "markdown",
   "metadata": {},
   "source": [
    "**Recommendation**\n",
    "\n",
    "Based on the computed expected values and standard deviations for each of the portfolios:\n",
    "\n",
    "$$\n",
    "\\begin{align*}\n",
    "\\text{Portfolio} & \\quad \\text{Expected Value} & \\quad \\text{Standard Deviation} \\\\\n",
    "1 & \\quad \\$7500 & \\quad 1023.17 \\\\\n",
    "2 & \\quad \\$7500 & \\quad 881.76 \\\\\n",
    "3 & \\quad \\$7500 & \\quad 872.85 \\\\\n",
    "4 & \\quad \\$7500 & \\quad 920.26 \\\\\n",
    "\\end{align*}\n",
    "$$\n",
    "\n",
    "Considering that the expected values (mean) of all portfolios are the same at $\\$7500$, the primary criterion for differentiation becomes the standard deviation, which measures risk. \n",
    "\n",
    "A conservative investor typically seeks to minimize risk. The standard deviation is a measure of the dispersion or spread of a set of values, and in the context of an investment portfolio, it can be used as a measure of risk. The lower the standard deviation, the lower the risk.\n",
    "\n",
    "Given the results, **Portfolio 3** has the lowest standard deviation (872.85) among the four portfolios, making it the least risky. Therefore, despite all portfolios having the same expected return of $7500, a conservative investor should choose Portfolio 3."
   ]
  },
  {
   "cell_type": "markdown",
   "metadata": {},
   "source": [
    "### **Task 2: Explannation**\n"
   ]
  },
  {
   "cell_type": "markdown",
   "metadata": {},
   "source": [
    "1. **Expected Value**: \n",
    "   The expected value (or mean) of a portfolio is the weighted average of the expected values of its individual assets. \n",
    "   \n",
    "   For portfolio $P$, if $ w_i $ is the weight of the investment in asset $ X_i $\n",
    "   $$\n",
    "   P=w_1X_1+w_2X_2+w_3X_3+w_4X_4=\\sum_{i=1}^{n} w_i X_i \\quad \\text{ (n=4)}\n",
    "   $$\n",
    "   And $ E[X_i] $ is the expected value of asset $ X_i $, then the expected value $ E[P] $ of the portfolio is:\n",
    "   $$\n",
    "   E[P] = E[\\sum_{i=1}^{n} w_i X_i] = \\sum_{i=1}^{n} E[w_iX_i]\n",
    "   $$\n",
    "   (*\"Additive law of expectation\"*)\n",
    "   $$\n",
    "   E[P] = \\sum_{i=1}^{n} E[w_iX_i] = \\sum_{i=1}^{n}w_i E[X_i]\n",
    "   $$\n",
    "   (*\"Scalar multiplication of a random variable\"*)\n",
    "\n",
    "   In computations, the weights are represented by the dollar amounts invested in each asset.\n",
    "\n",
    "2. **Variance and Standard Deviation**:\n",
    "   The variance $ Var(P) $ of a portfolio is given by:\n",
    "   $$\n",
    "   Var(P) = Cov(P,P) = \\sum_{i=1}^{n} \\sum_{j=1}^{n} w_i w_j \\text{Cov}(X_i, X_j)\n",
    "   $$\n",
    "   (*\"The covariance of a variable with itself is the variance of the random variable\"*)\n",
    "\n",
    "   Where $ \\text{Cov}(X_i, X_j) $ is the covariance between assets $ i $ and $ j $. The covariance is a measure of how two random variables change together, and it can be computed using the correlation $ \\rho_{ij} $ between the two assets and their respective standard deviations $ Std(X_i) $ and $ Std(X_j) $:\n",
    "   $$\n",
    "   \\text{Cov}(X_i, X_j) = \\rho_{ij}Std(X_i)Std(X_j)\n",
    "   $$\n",
    "   Finally, the standard deviation of the portfolio is the square root of its variance by defination:\n",
    "   $$\n",
    "   Std(P) = \\sqrt{Var(P)}\n",
    "   $$\n",
    "   In the computations, I make use of the Matrix Operations (Vectorization) by NumPy which is better than pure loop. First I calculated the covariance matrix from the given correlation matrix and standard deviations. Then, I used this covariance matrix to compute the variance and standard deviation for each portfolio."
   ]
  }
 ],
 "metadata": {
  "kernelspec": {
   "display_name": "Python 3",
   "language": "python",
   "name": "python3"
  },
  "language_info": {
   "codemirror_mode": {
    "name": "ipython",
    "version": 3
   },
   "file_extension": ".py",
   "mimetype": "text/x-python",
   "name": "python",
   "nbconvert_exporter": "python",
   "pygments_lexer": "ipython3",
   "version": "3.8.8"
  }
 },
 "nbformat": 4,
 "nbformat_minor": 4
}
