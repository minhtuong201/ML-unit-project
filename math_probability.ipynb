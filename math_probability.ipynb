{
 "cells": [
  {
   "cell_type": "markdown",
   "metadata": {},
   "source": [
    "- Student name: Duy Hieu Nguyen\n",
    "- SID: 33694052"
   ]
  },
  {
   "cell_type": "markdown",
   "metadata": {},
   "source": [
    "# 2. **Probability**"
   ]
  },
  {
   "cell_type": "markdown",
   "metadata": {},
   "source": [
    "## Question 4: Bayes Rule\n",
    "### Scenario: Picking Fruits from Colored Boxes\n",
    "Three colored boxes: red, blue, and yellow. Each box contains a mix of apples and oranges:\n",
    "- Red box: 3 apples, 5 oranges\n",
    "- Blue box: 4 apples, 4 oranges\n",
    "- Yellow box: 1 apple, 1 orange\n",
    "\n",
    "We randomly select one box and then randomly pick a fruit from it. The question is: if we picked an apple, what is the probability it came from the yellow box?"
   ]
  },
  {
   "cell_type": "markdown",
   "metadata": {},
   "source": [
    "### Task 1: \n",
    "Implement a Python function that simulates the above experiment (using a suitable method of a numpy random number generator obtained via numpy.random.get default rng). For instance you could name the function fruit experiment and it could take a parameter for the number of repeated simulations."
   ]
  },
  {
   "cell_type": "markdown",
   "metadata": {},
   "source": [
    "This function simulates the described experiment for the particular scenario."
   ]
  },
  {
   "cell_type": "code",
   "execution_count": 4,
   "metadata": {},
   "outputs": [
    {
     "name": "stdout",
     "output_type": "stream",
     "text": [
      "(array(['red', 'red', 'yellow', 'blue'], dtype=object), array(['orange', 'orange', 'apple', 'orange'], dtype=object))\n"
     ]
    }
   ],
   "source": [
    "import numpy as np\n",
    "\n",
    "def fruit_experiment(num_simulations):\n",
    "    # Initialize the experiment\n",
    "    rng = np.random.default_rng()\n",
    "    boxes = {\n",
    "        \"red\": [\"apple\"] * 3 + [\"orange\"] * 5,\n",
    "        \"blue\": [\"apple\"] * 4 + [\"orange\"] * 4,\n",
    "        \"yellow\": [\"apple\"] * 1 + [\"orange\"] * 1,\n",
    "    }\n",
    "\n",
    "    # Arrays to store the results of each simulation\n",
    "    selected_boxes = []\n",
    "    selected_fruits = []\n",
    "\n",
    "    for _ in range(num_simulations):\n",
    "        # Randomly select a box\n",
    "        box = rng.choice(list(boxes.keys()))\n",
    "\n",
    "        # Randomly select a fruit from the chosen box\n",
    "        fruit = rng.choice(boxes[box])\n",
    "\n",
    "        selected_boxes.append(box)\n",
    "        selected_fruits.append(fruit)\n",
    "\n",
    "    return np.array(selected_boxes, dtype='object'), np.array(selected_fruits, dtype='object')\n",
    "\n",
    "# Test the function\n",
    "print(fruit_experiment(4))\n"
   ]
  },
  {
   "cell_type": "markdown",
   "metadata": {},
   "source": [
    "### Task 2: \n",
    "Answer the following question by a formal derivation in a markdown cell (ideally using Latex for clean typesetting): If the picked fruit is an apple, what is the probability that it was picked from the yellow box?\n"
   ]
  },
  {
   "cell_type": "markdown",
   "metadata": {},
   "source": [
    "We want to find the probability that an apple was picked from the yellow box. Let's define the following events:\n",
    " \n",
    "- $A$: Event that an apple is picked.\n",
    "- $Y$: Event that a fruit is picked from the yellow box.\n",
    "- $B$: Event that a fruit is picked from the blue box.\n",
    "- $R$: Event that a fruit is picked from the red box.\n",
    "\n",
    "We want to find the conditional probability $P(Y|A)$: Picked from yellow box, given an apple was picked.\n",
    "\n",
    "Using Bayes' theorem:\n",
    "\n",
    "\\begin{equation*}\n",
    "P(Y|A) = \\frac{P(A|Y) \\times P(Y)}{P(A)}\n",
    "\\end{equation*}\n",
    "\n",
    "Where:\n",
    "\n",
    "1. $P(Y)$: Probability of picking the yellow box = $\\frac{1}{3}$ (since the 3 boxes are chosen uniformly at random).\n",
    "2. $P(A|Y)$: Probability of picking an apple given that it's from the yellow box = $\\frac{1}{2}$ (since there's 1 apple and 1 orange in the yellow box).\n",
    "3. $P(A)$: Total probability of picking an apple.\n",
    "\n",
    "Using Law of total probability:\n",
    "\\begin{align*}\n",
    "P(A) &= P(A|R)P(R) + P(A|B)P(B) + P(A|Y)P(Y) \\\n",
    "= \\frac{3}{8} \\times \\frac{1}{3} + \\frac{4}{8} \\times \\frac{1}{3} + \\frac{1}{2} \\times \\frac{1}{3} \n",
    "= \\frac{11}{49}\n",
    "\\end{align*}\n",
    "\n",
    "Substituting these values into Bayes' theorem:\n",
    "\n",
    "\\begin{equation*}\n",
    "P(Y|A) = \\frac{\\frac{1}{2} \\times \\frac{1}{3}}{\\frac{11}{24}} = \\frac{1/6}{11/24} = \\frac{4}{11}\n",
    "\\end{equation*}\n",
    "\n",
    "Thus, the probability that an apple came from the yellow box given that an apple was picked is $\\frac{4}{11}$."
   ]
  },
  {
   "cell_type": "markdown",
   "metadata": {},
   "source": [
    "To double check the solution, I perform a large number of simulations (100000). Then, counting the number of times we get an apple from the yellow box and divide it by the total number of times we get an apple. "
   ]
  },
  {
   "cell_type": "code",
   "execution_count": 5,
   "metadata": {},
   "outputs": [
    {
     "name": "stdout",
     "output_type": "stream",
     "text": [
      "Empirical Probability: 0.3675\n"
     ]
    }
   ],
   "source": [
    "# Run the simulation for a large number of times\n",
    "num_simulations = 100000\n",
    "boxes, fruits = fruit_experiment(num_simulations)\n",
    "\n",
    "# Count the number of times we get an apple from the yellow box\n",
    "apple_from_yellow = np.sum((boxes == 'yellow') & (fruits == 'apple'))\n",
    "\n",
    "# Count the total number of times we get an apple\n",
    "total_apples = np.sum(fruits == 'apple')\n",
    "\n",
    "# Calculate the probability\n",
    "probability = apple_from_yellow / total_apples\n",
    "\n",
    "print(f\"Empirical Probability: {round(probability, 4)}\")"
   ]
  },
  {
   "cell_type": "markdown",
   "metadata": {},
   "source": [
    "### Question 5: Expected Values\n",
    "#### Scenario: Rolling dice\n",
    "One-player game: the player first rolls a fair six-sided die and then she determines her score as the sum of the outcomes of a number of a additional die roles, where the number of additionally rolled dice is equal to the number rolled with the first die.\n",
    "- $X$: Outcome of the first die roll.\n",
    "- $Y_i$ for $i = 1, ... 6$: Outcome of the $i-th$ subsequent die roll if $i <= X$, or 0 otherwise.\n",
    "- $Z = Y_1 + Y_2 + ... + Y_6$: The final score of the player.\n",
    "\n",
    "Question: What is the expected value of $E[Z]$?\n"
   ]
  },
  {
   "cell_type": "markdown",
   "metadata": {},
   "source": [
    "### Task 1\n",
    "Implement a Python function die experiment that simulates the above game for a desired number of repetitions and returns the array of scores achieved by the player for each repetition."
   ]
  },
  {
   "cell_type": "markdown",
   "metadata": {},
   "source": [
    "This function simulates the game described above"
   ]
  },
  {
   "cell_type": "code",
   "execution_count": 6,
   "metadata": {},
   "outputs": [],
   "source": [
    "import numpy as np\n",
    "\n",
    "def die_experiment(repetitions):\n",
    "    rng = np.random.default_rng()  # Initialize a random number generator\n",
    "    scores = []\n",
    "    \n",
    "    for _ in range(repetitions):\n",
    "        X = rng.integers(1, 7)  # Roll the first die\n",
    "        Y = [rng.integers(1, 7) if i < X else 0 for i in range(6)]  # Roll subsequent dice based on X\n",
    "        Z = sum(Y)  # Calculate the score\n",
    "        scores.append(Z)\n",
    "        \n",
    "    return np.array(scores)\n"
   ]
  },
  {
   "cell_type": "markdown",
   "metadata": {},
   "source": [
    "### Task 2:\n",
    "Estimation of Expected Player Score over 10000 times"
   ]
  },
  {
   "cell_type": "code",
   "execution_count": 7,
   "metadata": {},
   "outputs": [
    {
     "name": "stdout",
     "output_type": "stream",
     "text": [
      "Estimated Expected Score: 12.25\n",
      "95% Confidence Interval: (12.12, 12.39)\n"
     ]
    }
   ],
   "source": [
    "repetitions = 10000\n",
    "scores = die_experiment(repetitions)\n",
    "expected_score = scores.mean()\n",
    "\n",
    "# Calculate the 95% confidence interval for the expected score\n",
    "confidence_level = 0.95\n",
    "z = 1.96  # z-score for 95% confidence\n",
    "std_dev = scores.std() # std deviation\n",
    "std_error = std_dev / np.sqrt(repetitions) # std error\n",
    "margin_of_error = z * std_error\n",
    "confidence_interval = (expected_score - margin_of_error, expected_score + margin_of_error)\n",
    "\n",
    "print(f\"Estimated Expected Score: {expected_score:.2f}\")\n",
    "print(f\"95% Confidence Interval: ({confidence_interval[0]:.2f}, {confidence_interval[1]:.2f})\")\n"
   ]
  },
  {
   "cell_type": "markdown",
   "metadata": {},
   "source": [
    "### Task 3:\n",
    "Analytically derive the expected value E[Z]"
   ]
  },
  {
   "cell_type": "markdown",
   "metadata": {},
   "source": [
    "Recall\n",
    "- $X$: Outcome of the first die roll.\n",
    "- $Y_i$ for $i = 1, ... 6$: Outcome of the $i-th$ subsequent die roll if $i <= X$, or 0 otherwise.\n",
    "- $Z = Y_1 + Y_2 + ... + Y_6$: The final score of the player.\n",
    "\n",
    "Given that the first die roll is $x$, the player will roll $x$ more dice. Each of these dice has an expected value:\n",
    "\n",
    "\\begin{align*}\n",
    "E[\\text{1 dice roll}] &= \\frac{1 + 2 + 3 + 4 + 5 + 6}{6} \\\n",
    "= \\frac{21}{6} \\\n",
    "= 3.5\n",
    "\\end{align*}\n",
    "So, the expected value of the sum of $x$ dice rolls is x times the expected value of one dice roll:\n",
    "\\begin{align*}\n",
    "E[Z|X=x] &= x \\times E[\\text{1 dice roll}] \\\n",
    "= x \\times 3.5 \\\n",
    "= 3.5x\n",
    "\\end{align*}\n",
    "\n",
    "Now, using the rule of total expectation:\n",
    "\n",
    "\\begin{align*}\n",
    "E[Z] &= \\sum_{x=1}^{6} E[Z|X=x] \\times P(X=x) \\\n",
    "= \\sum_{x=1}^{6} 3.5x \\times \\frac{1}{6} \\\n",
    "= \\frac{1}{6} \\times (3.5 + 7 + 10.5 + 14 + 17.5 + 21) \\\n",
    "= \\frac{73.5}{6} \\\n",
    "= 12.25\n",
    "\\end{align*}\n",
    "\n",
    "Thus, analytically, the expected score $E[Z] = 12.25$.\n"
   ]
  },
  {
   "cell_type": "markdown",
   "metadata": {},
   "source": []
  }
 ],
 "metadata": {
  "kernelspec": {
   "display_name": "Python 3",
   "language": "python",
   "name": "python3"
  },
  "language_info": {
   "codemirror_mode": {
    "name": "ipython",
    "version": 3
   },
   "file_extension": ".py",
   "mimetype": "text/x-python",
   "name": "python",
   "nbconvert_exporter": "python",
   "pygments_lexer": "ipython3",
   "version": "3.8.8"
  },
  "vscode": {
   "interpreter": {
    "hash": "aee8b7b246df8f9039afb4144a1f6fd8d2ca17a180786b69acc140d282b71a49"
   }
  }
 },
 "nbformat": 4,
 "nbformat_minor": 4
}
