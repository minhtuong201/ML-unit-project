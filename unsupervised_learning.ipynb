{
 "cells": [
  {
   "cell_type": "markdown",
   "metadata": {},
   "source": [
    "- Student name: Duy Hieu Nguyen\n",
    "- SID: 33694052"
   ]
  },
  {
   "cell_type": "markdown",
   "metadata": {},
   "source": [
    "# 3. **Unsupervised Learning**"
   ]
  },
  {
   "cell_type": "markdown",
   "metadata": {},
   "source": [
    "## Question 3. Self-supervised Neural Network Learning"
   ]
  },
  {
   "cell_type": "markdown",
   "metadata": {},
   "source": [
    "### Task 1:  Load data"
   ]
  },
  {
   "cell_type": "code",
   "execution_count": 1,
   "metadata": {},
   "outputs": [],
   "source": [
    "import numpy as np\n",
    "import pandas as pd\n",
    "import matplotlib.pyplot as plt\n",
    "from sklearn.neural_network import MLPRegressor\n",
    "from sklearn.neural_network import MLPClassifier\n",
    "from sklearn.metrics import accuracy_score\n",
    "\n",
    "labeled_data = pd.read_csv('Task2C_labeled.csv')\n",
    "unlabeled_data = pd.read_csv('Task2C_unlabeled.csv')\n",
    "test_data = pd.read_csv('Task2C_test.csv')"
   ]
  },
  {
   "cell_type": "code",
   "execution_count": 2,
   "metadata": {},
   "outputs": [],
   "source": [
    "def show_images(images, labels = None, size=(28,28), rows = 1, scale=4):\n",
    "    assert((labels is None)or (len(images) == len(labels)))\n",
    "    n_images = len(images)\n",
    "    if labels is None: \n",
    "        labels = ['Image (%d)' % i for i in range(1,n_images + 1)]\n",
    "    else:\n",
    "        labels = ['Label: (%d)' % i for i in labels]\n",
    "    fig = plt.figure()\n",
    "    for n, (image, title) in enumerate(zip(images, labels)):\n",
    "        image = image.reshape(size)\n",
    "        cols = int(np.ceil(n_images / float(rows)))\n",
    "        a = fig.add_subplot(rows,cols,n+1)\n",
    "        if image.ndim == 2:\n",
    "            plt.gray()\n",
    "        plt.imshow(image)\n",
    "        a.set_title(title)\n",
    "    fig.set_size_inches(np.array(fig.get_size_inches()) * n_images/scale)\n",
    "    plt.show()"
   ]
  },
  {
   "cell_type": "markdown",
   "metadata": {},
   "source": [
    "Visualize some sample of label, unlabel and test data"
   ]
  },
  {
   "cell_type": "code",
   "execution_count": 3,
   "metadata": {},
   "outputs": [
    {
     "name": "stdout",
     "output_type": "stream",
     "text": [
      "Labeled Data\n"
     ]
    },
    {
     "data": {
      "image/png": "[encoded data removed]",
      "text/plain": [
       "<Figure size 720x480 with 5 Axes>"
      ]
     },
     "metadata": {
      "needs_background": "light"
     },
     "output_type": "display_data"
    },
    {
     "name": "stdout",
     "output_type": "stream",
     "text": [
      "Unlabeled Data\n"
     ]
    },
    {
     "data": {
      "image/png": "[encoded data removed]",
      "text/plain": [
       "<Figure size 720x480 with 5 Axes>"
      ]
     },
     "metadata": {
      "needs_background": "light"
     },
     "output_type": "display_data"
    },
    {
     "name": "stdout",
     "output_type": "stream",
     "text": [
      "Test Data\n"
     ]
    },
    {
     "data": {
      "image/png": "[encoded data removed]",
      "text/plain": [
       "<Figure size 720x480 with 5 Axes>"
      ]
     },
     "metadata": {
      "needs_background": "light"
     },
     "output_type": "display_data"
    }
   ],
   "source": [
    "print(\"Labeled Data\")\n",
    "X_labeled = np.array(labeled_data.iloc[:,1:])\n",
    "Y_labeled = np.array(labeled_data.iloc[:,0])\n",
    "show_images(X_labeled[:5], Y_labeled[:5],rows=1, scale=3)\n",
    "\n",
    "print(\"Unlabeled Data\")\n",
    "unlabeled_data.insert(0, 'label', -1)\n",
    "X_unlabeled = np.array(unlabeled_data.iloc[:,1:])\n",
    "Y_unlabeled = np.array(unlabeled_data.iloc[:,0])\n",
    "show_images(X_unlabeled[:5], Y_unlabeled[:5],rows=1, scale=3)\n",
    "unlabeled_data = unlabeled_data.drop(columns=['label'])\n",
    "\n",
    "print(\"Test Data\")\n",
    "X_test = np.array(test_data.iloc[:,1:])\n",
    "Y_test = np.array(test_data.iloc[:,0])\n",
    "show_images(X_labeled[:5], Y_labeled[:5],rows=1, scale=3)"
   ]
  },
  {
   "cell_type": "markdown",
   "metadata": {},
   "source": [
    "### Task 2: Auto Encorder Implement\n"
   ]
  },
  {
   "cell_type": "code",
   "execution_count": 4,
   "metadata": {},
   "outputs": [
    {
     "name": "stderr",
     "output_type": "stream",
     "text": [
      "C:\\Users\\chuth\\anaconda3\\lib\\site-packages\\sklearn\\neural_network\\_multilayer_perceptron.py:614: ConvergenceWarning: Stochastic Optimizer: Maximum iterations (70) reached and the optimization hasn't converged yet.\n",
      "  warnings.warn(\n",
      "C:\\Users\\chuth\\anaconda3\\lib\\site-packages\\sklearn\\neural_network\\_multilayer_perceptron.py:614: ConvergenceWarning: Stochastic Optimizer: Maximum iterations (70) reached and the optimization hasn't converged yet.\n",
      "  warnings.warn(\n",
      "C:\\Users\\chuth\\anaconda3\\lib\\site-packages\\sklearn\\neural_network\\_multilayer_perceptron.py:614: ConvergenceWarning: Stochastic Optimizer: Maximum iterations (70) reached and the optimization hasn't converged yet.\n",
      "  warnings.warn(\n",
      "C:\\Users\\chuth\\anaconda3\\lib\\site-packages\\sklearn\\neural_network\\_multilayer_perceptron.py:614: ConvergenceWarning: Stochastic Optimizer: Maximum iterations (70) reached and the optimization hasn't converged yet.\n",
      "  warnings.warn(\n",
      "C:\\Users\\chuth\\anaconda3\\lib\\site-packages\\sklearn\\neural_network\\_multilayer_perceptron.py:614: ConvergenceWarning: Stochastic Optimizer: Maximum iterations (70) reached and the optimization hasn't converged yet.\n",
      "  warnings.warn(\n",
      "C:\\Users\\chuth\\anaconda3\\lib\\site-packages\\sklearn\\neural_network\\_multilayer_perceptron.py:614: ConvergenceWarning: Stochastic Optimizer: Maximum iterations (70) reached and the optimization hasn't converged yet.\n",
      "  warnings.warn(\n"
     ]
    }
   ],
   "source": [
    "# Combinning labeled and unlabeled data to train AE\n",
    "X_train = np.vstack((X_labeled, X_unlabeled))\n",
    "\n",
    "reconstruction_errors = []\n",
    "neurons_range = list(range(20, 221, 40))\n",
    "\n",
    "for neurons in neurons_range:\n",
    "    # Train the autoencoder\n",
    "    autoencoder = MLPRegressor(hidden_layer_sizes=(neurons,), activation='relu', max_iter=70, random_state=0)\n",
    "    autoencoder.fit(X_train, X_train)\n",
    "    \n",
    "    # Reconstruct the input data\n",
    "    X_pred = autoencoder.predict(X_train)\n",
    "    \n",
    "    # Calculate the average Euclidean distance as the reconstruction error\n",
    "    error = np.mean(np.sqrt(np.sum((X_train - X_pred)**2, axis=1)))\n",
    "    reconstruction_errors.append(error)\n"
   ]
  },
  {
   "cell_type": "markdown",
   "metadata": {},
   "source": [
    "### Task 3: Plotting reconstruction error of AE"
   ]
  },
  {
   "cell_type": "code",
   "execution_count": 5,
   "metadata": {},
   "outputs": [
    {
     "data": {
      "image/png": "[encoded data removed]",
      "text/plain": [
       "<Figure size 432x288 with 1 Axes>"
      ]
     },
     "metadata": {
      "needs_background": "light"
     },
     "output_type": "display_data"
    }
   ],
   "source": [
    "# Plotting\n",
    "plt.plot(neurons_range, reconstruction_errors, marker='o', linestyle='-')\n",
    "plt.xlabel('Number of Neurons in Hidden Layer')\n",
    "plt.ylabel('Average Euclidean Distance (Reconstruction Error)')\n",
    "plt.title('Reconstruction Error vs. Number of Neurons')\n",
    "plt.grid(True)\n",
    "plt.show()"
   ]
  },
  {
   "cell_type": "markdown",
   "metadata": {},
   "source": [
    "#### **Observation**:\n",
    "From the graph, we can see that the higher the number of nodes in hidden layers, the smaller the test error, which starts from 1100 and decreases significantly to around 550.\n",
    "#### **Explanation** \n",
    "- AutoEncoder try to compress the original image data into a more compact form. In this case, it try to 'zip' 784 'pixels' into K 'pixels' as the number of neurons in hidden layer.\n",
    "- If we have only a few neurons in the hidden layer, there's limited capacity to hold all the information from the original images. This leads to more loss of detail and higher error when reconstructing the images.\n",
    "- As the number of neurons in hidden layer increases, autoencoder has more space to store important details from the images. This means it can capture the patterns better, reconstruct the images with more accuracy, leading to a lower error."
   ]
  },
  {
   "cell_type": "markdown",
   "metadata": {},
   "source": [
    "### Task 4: Regular Neuron Network implement\n"
   ]
  },
  {
   "cell_type": "code",
   "execution_count": 6,
   "metadata": {},
   "outputs": [],
   "source": [
    "# Loop over all combinations of K and learning rate\n",
    "test_errors = []\n",
    "neurons_range = list(range(20, 221, 40))\n",
    "\n",
    "for neurons in neurons_range:\n",
    "    # Initialize and train the MLPClassifier\n",
    "    clf = MLPClassifier(hidden_layer_sizes=(neurons,), max_iter=1000, random_state=0)\n",
    "    clf.fit(X_labeled, Y_labeled)\n",
    "    \n",
    "    # Predict on the test set\n",
    "    y_pred = clf.predict(X_test)\n",
    "    \n",
    "    # Calculate test error = (1 - accuracy)\n",
    "    error = 1 - accuracy_score(Y_test, y_pred)\n",
    "    # Record test error\n",
    "    test_errors.append(error)"
   ]
  },
  {
   "cell_type": "markdown",
   "metadata": {},
   "source": [
    "### Task 5: Self-taught Neuron Network implement\n"
   ]
  },
  {
   "cell_type": "markdown",
   "metadata": {},
   "source": [
    "This function take the mid layer output of autoencoder"
   ]
  },
  {
   "cell_type": "code",
   "execution_count": 7,
   "metadata": {},
   "outputs": [
    {
     "name": "stdout",
     "output_type": "stream",
     "text": [
      "2\n"
     ]
    }
   ],
   "source": [
    "# Extract feature from hidden layer\n",
    "def extract_features(autoencoder, X):\n",
    "    for layer in autoencoder.coefs_[:len(autoencoder.coefs_)//2]:\n",
    "        X = np.dot(X, layer)  # Weighted sum\n",
    "        X = np.maximum(X, 0)  # ReLU activation\n",
    "    return X\n",
    "print(len(autoencoder.coefs_))"
   ]
  },
  {
   "cell_type": "markdown",
   "metadata": {},
   "source": [
    "NN + AE Implement"
   ]
  },
  {
   "cell_type": "code",
   "execution_count": 8,
   "metadata": {},
   "outputs": [
    {
     "name": "stderr",
     "output_type": "stream",
     "text": [
      "C:\\Users\\chuth\\anaconda3\\lib\\site-packages\\sklearn\\neural_network\\_multilayer_perceptron.py:614: ConvergenceWarning: Stochastic Optimizer: Maximum iterations (70) reached and the optimization hasn't converged yet.\n",
      "  warnings.warn(\n",
      "C:\\Users\\chuth\\anaconda3\\lib\\site-packages\\sklearn\\neural_network\\_multilayer_perceptron.py:614: ConvergenceWarning: Stochastic Optimizer: Maximum iterations (70) reached and the optimization hasn't converged yet.\n",
      "  warnings.warn(\n",
      "C:\\Users\\chuth\\anaconda3\\lib\\site-packages\\sklearn\\neural_network\\_multilayer_perceptron.py:614: ConvergenceWarning: Stochastic Optimizer: Maximum iterations (70) reached and the optimization hasn't converged yet.\n",
      "  warnings.warn(\n",
      "C:\\Users\\chuth\\anaconda3\\lib\\site-packages\\sklearn\\neural_network\\_multilayer_perceptron.py:614: ConvergenceWarning: Stochastic Optimizer: Maximum iterations (70) reached and the optimization hasn't converged yet.\n",
      "  warnings.warn(\n",
      "C:\\Users\\chuth\\anaconda3\\lib\\site-packages\\sklearn\\neural_network\\_multilayer_perceptron.py:614: ConvergenceWarning: Stochastic Optimizer: Maximum iterations (70) reached and the optimization hasn't converged yet.\n",
      "  warnings.warn(\n",
      "C:\\Users\\chuth\\anaconda3\\lib\\site-packages\\sklearn\\neural_network\\_multilayer_perceptron.py:614: ConvergenceWarning: Stochastic Optimizer: Maximum iterations (70) reached and the optimization hasn't converged yet.\n",
      "  warnings.warn(\n"
     ]
    }
   ],
   "source": [
    "# Storage for test errors of self-taught networks\n",
    "self_taught_test_errors = []\n",
    "\n",
    "for neurons in neurons_range:\n",
    "    # Train the autoencoder\n",
    "    autoencoder = MLPRegressor(hidden_layer_sizes=(neurons,), activation='relu', max_iter=70 , random_state=0)\n",
    "    autoencoder.fit(X_labeled, X_labeled)\n",
    "\n",
    "    # Extract features from the middle layer of autoencoder\n",
    "    autoencoder_features = extract_features(autoencoder, X_labeled)\n",
    "\n",
    "    # Augment original features with autoencoder's features\n",
    "    X_augmented = np.hstack((X_labeled, autoencoder_features))\n",
    "\n",
    "    # Train a new 3-layer neural network on the augmented features 784 + neurons in hidden\n",
    "    clf = MLPClassifier(hidden_layer_sizes=(neurons,), max_iter=1000, random_state=0)\n",
    "    clf.fit(X_augmented, Y_labeled)  \n",
    "\n",
    "    # Predict on the test set (augment the test set with autoencoder features)\n",
    "    X_test_augmented = np.hstack((X_test, extract_features(autoencoder, X_test)))\n",
    "    y_pred = clf.predict(X_test_augmented)\n",
    "\n",
    "    # Calculate test error = (1 - accuracy)\n",
    "    error = 1 - accuracy_score(Y_test, y_pred)\n",
    "    # Record test error\n",
    "    self_taught_test_errors.append(error)"
   ]
  },
  {
   "cell_type": "markdown",
   "metadata": {},
   "source": [
    "### Task 6: Plotting error of NNs "
   ]
  },
  {
   "cell_type": "code",
   "execution_count": 9,
   "metadata": {},
   "outputs": [
    {
     "data": {
      "image/png": "[encoded data removed]",
      "text/plain": [
       "<Figure size 432x288 with 1 Axes>"
      ]
     },
     "metadata": {
      "needs_background": "light"
     },
     "output_type": "display_data"
    }
   ],
   "source": [
    "plt.plot(neurons_range, test_errors, marker='o', label = \"Regular\", linestyle='-')\n",
    "plt.plot(neurons_range, self_taught_test_errors, label = \"Self-taught\", marker='o', linestyle='-')\n",
    "plt.xlabel('Number of Neurons in Hidden Layer')\n",
    "plt.ylabel('Test Error')\n",
    "plt.title('Test Error vs. Number of Neurons')\n",
    "plt.legend()  # This will place the legend in the upper right corner\n",
    "plt.grid(True)\n",
    "plt.show()"
   ]
  },
  {
   "cell_type": "code",
   "execution_count": 10,
   "metadata": {},
   "outputs": [
    {
     "name": "stdout",
     "output_type": "stream",
     "text": [
      "[0.744, 0.5900000000000001, 0.5820000000000001, 0.552, 0.47, 0.5880000000000001]\n",
      "[0.6619999999999999, 0.508, 0.55, 0.5, 0.46599999999999997, 0.51]\n"
     ]
    }
   ],
   "source": [
    "print(test_errors)\n",
    "print(self_taught_test_errors)"
   ]
  },
  {
   "cell_type": "markdown",
   "metadata": {},
   "source": [
    "#### **Discussion**:\n",
    "\n",
    "**Observation**:\n",
    "- Both the regular Neural Network and the self-taught NN show a general decrease in test error as the number of neurons increases, with the lowest errors are approximately 0.45 at 180 neurons for both. After this point, both models experience a slight uptick in test error when moving from 180 to 220 neurons.\n",
    "- It is also noticable that across different neuron counts, the **self-taught NN tends to outperform the regular NN**, achieving a lower test error (for instance, at 60 neurons, the test error of regular and seld-taught NN are 0.60 and 0.50, respectively).\n",
    "\n",
    "**Explanation**:\n",
    "- **Benefit of Encoded Features**: The self-taught NN contains features extracted by the autoencoder. This added information encapsulates essential patterns found in the handwritten digits, making the network in better distinguishing between them. As the encoding's dimensionality increases (with more neurons), the quality of these features generally improves, offering better classification performance.\n",
    "- **Overfitting Concern**: As the number of neurons increases, both models gain the ability to capture more intricate patterns in the MNIST data, leading to a decrease in test error. However, the slight increase in test error for both networks from 180 to 220 neurons might hint at overfitting. As we increase the network's complexity, it might start to \"memorize\" the training data including noise rather than learning general patterns, which then leads to bad performance on unseen test data."
   ]
  }
 ],
 "metadata": {
  "kernelspec": {
   "display_name": "Python 3",
   "language": "python",
   "name": "python3"
  },
  "language_info": {
   "codemirror_mode": {
    "name": "ipython",
    "version": 3
   },
   "file_extension": ".py",
   "mimetype": "text/x-python",
   "name": "python",
   "nbconvert_exporter": "python",
   "pygments_lexer": "ipython3",
   "version": "3.8.8"
  }
 },
 "nbformat": 4,
 "nbformat_minor": 4
}
